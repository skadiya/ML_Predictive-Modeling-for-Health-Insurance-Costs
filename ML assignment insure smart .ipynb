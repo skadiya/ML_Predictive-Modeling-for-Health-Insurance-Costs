{
 "cells": [
  {
   "cell_type": "code",
   "execution_count": 4,
   "id": "1d86257c",
   "metadata": {},
   "outputs": [
    {
     "name": "stdout",
     "output_type": "stream",
     "text": [
      "   age  gender    bmi  children smoker     region medical_history  \\\n",
      "0   46    male  21.45         5    yes  southeast        Diabetes   \n",
      "1   25  female  25.38         2    yes  northwest        Diabetes   \n",
      "2   38    male  44.88         2    yes  southwest             NaN   \n",
      "3   25    male  19.89         0     no  northwest             NaN   \n",
      "4   49    male  38.21         3    yes  northwest        Diabetes   \n",
      "\n",
      "  family_medical_history exercise_frequency    occupation coverage_level  \\\n",
      "0                    NaN              Never   Blue collar        Premium   \n",
      "1    High blood pressure       Occasionally  White collar        Premium   \n",
      "2    High blood pressure       Occasionally   Blue collar        Premium   \n",
      "3               Diabetes             Rarely  White collar       Standard   \n",
      "4    High blood pressure             Rarely  White collar       Standard   \n",
      "\n",
      "        charges  \n",
      "0  20460.307669  \n",
      "1  20390.899218  \n",
      "2  20204.476302  \n",
      "3  11789.029843  \n",
      "4  19268.309838  \n"
     ]
    }
   ],
   "source": [
    "import pandas as pd\n",
    "\n",
    "# Specify the file path using raw string (prepend with r)\n",
    "df = pd.read_csv(r'C:\\Users\\User\\Downloads\\insurance_dataset.csv')\n",
    "\n",
    "# View data frame head\n",
    "print(df.head())\n"
   ]
  },
  {
   "cell_type": "code",
   "execution_count": 5,
   "id": "fa37a53b",
   "metadata": {},
   "outputs": [
    {
     "name": "stdout",
     "output_type": "stream",
     "text": [
      "Index(['age', 'gender', 'bmi', 'children', 'smoker', 'region',\n",
      "       'medical_history', 'family_medical_history', 'exercise_frequency',\n",
      "       'occupation', 'coverage_level', 'charges'],\n",
      "      dtype='object')\n"
     ]
    }
   ],
   "source": [
    "import matplotlib.pyplot as plt\n",
    "import numpy as np\n",
    "# Remove null values\n",
    "df.dropna(inplace=True)\n",
    "\n",
    "print(df.columns)"
   ]
  },
  {
   "cell_type": "code",
   "execution_count": 6,
   "id": "692d9a6d",
   "metadata": {},
   "outputs": [
    {
     "name": "stdout",
     "output_type": "stream",
     "text": [
      "\n",
      "Head of the dataframe after removing null values and label encoding:\n",
      "    age  gender   bmi  children  smoker  region  medical_history  \\\n",
      "1     7       0   738         2       1       1                0   \n",
      "4    31       1  2021         3       1       1                0   \n",
      "6    46       0   212         2       0       0                2   \n",
      "7    35       1  1251         4       0       2                1   \n",
      "11   27       0  2168         1       0       1                2   \n",
      "\n",
      "    family_medical_history  exercise_frequency  occupation  coverage_level  \\\n",
      "1                        2                   2           3               1   \n",
      "4                        2                   3           3               2   \n",
      "6                        2                   1           0               0   \n",
      "7                        2                   3           1               2   \n",
      "11                       2                   2           0               1   \n",
      "\n",
      "    charges  \n",
      "1    380257  \n",
      "4    327531  \n",
      "6    557338  \n",
      "7    163964  \n",
      "11   121484  \n"
     ]
    }
   ],
   "source": [
    "# Convert all columns to strings\n",
    "df = df.astype(str)\n",
    "\n",
    "# Label encoding for categorical variables\n",
    "from sklearn.preprocessing import LabelEncoder\n",
    "\n",
    "# Assuming the last column is the target variable and all other columns are features\n",
    "# Encoding target variable if it's categorical\n",
    "if df.iloc[:, -1].dtype == 'object':\n",
    "    label_encoder = LabelEncoder()\n",
    "    df.iloc[:, -1] = label_encoder.fit_transform(df.iloc[:, -1])\n",
    "\n",
    "# Encoding categorical features if any\n",
    "for column in df.columns:\n",
    "    if df[column].dtype == 'object':\n",
    "        label_encoder = LabelEncoder()\n",
    "        df[column] = label_encoder.fit_transform(df[column])\n",
    "\n",
    "# View the head of the dataframe after encoding\n",
    "print(\"\\nHead of the dataframe after removing null values and label encoding:\")\n",
    "print(df.head())"
   ]
  },
  {
   "cell_type": "code",
   "execution_count": 7,
   "id": "cc831620",
   "metadata": {},
   "outputs": [
    {
     "name": "stdout",
     "output_type": "stream",
     "text": [
      "Index(['age', 'gender', 'bmi', 'children', 'smoker', 'region',\n",
      "       'medical_history', 'family_medical_history', 'exercise_frequency',\n",
      "       'occupation', 'coverage_level', 'charges'],\n",
      "      dtype='object')\n",
      "    age  gender   bmi  children  smoker  region  medical_history  \\\n",
      "1     7       0   738         2       1       1                0   \n",
      "4    31       1  2021         3       1       1                0   \n",
      "6    46       0   212         2       0       0                2   \n",
      "7    35       1  1251         4       0       2                1   \n",
      "11   27       0  2168         1       0       1                2   \n",
      "\n",
      "    family_medical_history  exercise_frequency  occupation  coverage_level  \\\n",
      "1                        2                   2           3               1   \n",
      "4                        2                   3           3               2   \n",
      "6                        2                   1           0               0   \n",
      "7                        2                   3           1               2   \n",
      "11                       2                   2           0               1   \n",
      "\n",
      "    charges  \n",
      "1    380257  \n",
      "4    327531  \n",
      "6    557338  \n",
      "7    163964  \n",
      "11   121484  \n"
     ]
    }
   ],
   "source": [
    "# Print column names\n",
    "print(df.columns)\n",
    "\n",
    "# Inspect the DataFrame to see if the column 'charges' exists\n",
    "print(df.head())\n"
   ]
  },
  {
   "cell_type": "code",
   "execution_count": 8,
   "id": "563e99c1",
   "metadata": {},
   "outputs": [
    {
     "name": "stdout",
     "output_type": "stream",
     "text": [
      "Training set shape: (449337, 11) (449337,)\n",
      "Testing set shape: (112335, 11) (112335,)\n"
     ]
    }
   ],
   "source": [
    "from sklearn.model_selection import train_test_split\n",
    "import pandas as pd\n",
    "\n",
    "# Assuming you have your data stored in a pandas DataFrame 'df'\n",
    "\n",
    "# Separate features (X) and target variable (y)\n",
    "X = df.drop(columns=['charges'])\n",
    "y = df['charges']\n",
    "\n",
    "# Split the data into training and testing sets\n",
    "X_train, X_test, y_train, y_test = train_test_split(X, y, test_size=0.2, random_state=42)\n",
    "\n",
    "# Print the shapes of the training and testing sets to verify the split\n",
    "print(\"Training set shape:\", X_train.shape, y_train.shape)\n",
    "print(\"Testing set shape:\", X_test.shape, y_test.shape)\n"
   ]
  },
  {
   "cell_type": "code",
   "execution_count": 9,
   "id": "f80b52c4",
   "metadata": {},
   "outputs": [
    {
     "data": {
      "text/plain": [
       "'# Usage example:\\nmlp = MLP(n_inputs=X_train.shape[1], n_hidden=10, n_outputs=1, eta=0.1, n_iter=10)\\nmlp.fit(X_train, y_train)\\n'"
      ]
     },
     "execution_count": 9,
     "metadata": {},
     "output_type": "execute_result"
    }
   ],
   "source": [
    "import numpy as np\n",
    "from scipy.special import expit\n",
    "class MLP:\n",
    "    def __init__(self, n_inputs, n_hidden, n_outputs, eta=0.1, n_iter=100):\n",
    "        self.n_inputs = n_inputs\n",
    "        self.n_hidden = n_hidden\n",
    "        self.n_outputs = n_outputs\n",
    "        self.eta = eta\n",
    "        self.n_iter = n_iter\n",
    "\n",
    "        # Initialize weights\n",
    "        self.weights_input_hidden = np.random.uniform(-0.5, 0.5, size=(self.n_hidden, self.n_inputs + 1))\n",
    "        self.weights_hidden_output = np.random.uniform(-0.5, 0.5, size=(self.n_outputs, self.n_hidden + 1))\n",
    "\n",
    "    def sigmoid(self, x):\n",
    "        return expit(x) #return 1 / (1 + np.exp(-x)) #\n",
    "\n",
    "    def sigmoid_derivative(self, x):\n",
    "        return x * (1 - x)\n",
    "\n",
    "    def fit(self, X, y):\n",
    "        X = np.column_stack((X, np.ones(len(X))))  # Add bias term\n",
    "\n",
    "        for _ in range(self.n_iter):\n",
    "            for xi, target in zip(X, y):\n",
    "                # Forward pass\n",
    "                hidden_input = np.dot(self.weights_input_hidden, xi)\n",
    "                hidden_output = self.sigmoid(hidden_input)\n",
    "\n",
    "                hidden_output = np.append(hidden_output, 1)  # Add bias term\n",
    "                output_input = np.dot(self.weights_hidden_output, hidden_output)\n",
    "                output_output = self.sigmoid(output_input)\n",
    "\n",
    "               # Backpropagation\n",
    "                output_error = target - output_output\n",
    "                output_delta = output_error * self.sigmoid_derivative(output_output)\n",
    "\n",
    "# Backpropagation\n",
    "                output_error = target - output_output\n",
    "                output_delta = output_error * self.sigmoid_derivative(output_output)\n",
    "\n",
    "# Remove bias term from hidden_error\n",
    "                hidden_error = np.dot(self.weights_hidden_output.T, output_delta)[:-1]\n",
    "\n",
    "# Reshape hidden_error to match the shape of hidden_output\n",
    "                hidden_error = hidden_error.reshape(-1, 1)\n",
    "\n",
    "                hidden_delta = hidden_error * self.sigmoid_derivative(hidden_output)\n",
    "\n",
    "    def predict(self, X):\n",
    "        X = np.column_stack((X, np.ones(len(X))))  # Add bias term\n",
    "        predictions = []\n",
    "\n",
    "        for xi in X:\n",
    "            hidden_input = np.dot(self.weights_input_hidden, xi)\n",
    "            hidden_output = self.sigmoid(hidden_input)\n",
    "\n",
    "            hidden_output = np.append(hidden_output, 1)  # Add bias term\n",
    "            output_input = np.dot(self.weights_hidden_output, hidden_output)\n",
    "            output_output = self.sigmoid(output_input)\n",
    "\n",
    "            predictions.append(output_output)\n",
    "\n",
    "        return np.array(predictions)\n",
    "\n",
    "\"\"\"# Usage example:\n",
    "mlp = MLP(n_inputs=X_train.shape[1], n_hidden=10, n_outputs=1, eta=0.1, n_iter=10)\n",
    "mlp.fit(X_train, y_train)\n",
    "\"\"\""
   ]
  },
  {
   "cell_type": "code",
   "execution_count": 18,
   "id": "e45918f3",
   "metadata": {},
   "outputs": [
    {
     "name": "stdout",
     "output_type": "stream",
     "text": [
      "Requirement already satisfied: xgboost in c:\\users\\user\\anaconda3\\lib\\site-packages (2.0.3)\n",
      "Requirement already satisfied: numpy in c:\\users\\user\\anaconda3\\lib\\site-packages (from xgboost) (1.24.3)\n",
      "Requirement already satisfied: scipy in c:\\users\\user\\anaconda3\\lib\\site-packages (from xgboost) (1.11.1)\n",
      "Note: you may need to restart the kernel to use updated packages.\n"
     ]
    }
   ],
   "source": [
    "pip install xgboost"
   ]
  },
  {
   "cell_type": "code",
   "execution_count": 25,
   "id": "b01c2103",
   "metadata": {},
   "outputs": [
    {
     "name": "stdout",
     "output_type": "stream",
     "text": [
      "Epoch 1/10\n",
      "\u001b[1m14042/14042\u001b[0m \u001b[32m━━━━━━━━━━━━━━━━━━━━\u001b[0m\u001b[37m\u001b[0m \u001b[1m30s\u001b[0m 2ms/step - loss: 8282979328.0000 - val_loss: 8100189696.0000\n",
      "Epoch 2/10\n",
      "\u001b[1m14042/14042\u001b[0m \u001b[32m━━━━━━━━━━━━━━━━━━━━\u001b[0m\u001b[37m\u001b[0m \u001b[1m31s\u001b[0m 2ms/step - loss: 7595099648.0000 - val_loss: 7853446656.0000\n",
      "Epoch 3/10\n",
      "\u001b[1m14042/14042\u001b[0m \u001b[32m━━━━━━━━━━━━━━━━━━━━\u001b[0m\u001b[37m\u001b[0m \u001b[1m30s\u001b[0m 2ms/step - loss: 7058863616.0000 - val_loss: 6770276864.0000\n",
      "Epoch 4/10\n",
      "\u001b[1m14042/14042\u001b[0m \u001b[32m━━━━━━━━━━━━━━━━━━━━\u001b[0m\u001b[37m\u001b[0m \u001b[1m30s\u001b[0m 2ms/step - loss: 6705990144.0000 - val_loss: 6180794880.0000\n",
      "Epoch 5/10\n",
      "\u001b[1m14042/14042\u001b[0m \u001b[32m━━━━━━━━━━━━━━━━━━━━\u001b[0m\u001b[37m\u001b[0m \u001b[1m27s\u001b[0m 2ms/step - loss: 6613364736.0000 - val_loss: 6263192576.0000\n",
      "Epoch 6/10\n",
      "\u001b[1m14042/14042\u001b[0m \u001b[32m━━━━━━━━━━━━━━━━━━━━\u001b[0m\u001b[37m\u001b[0m \u001b[1m30s\u001b[0m 2ms/step - loss: 6441946112.0000 - val_loss: 6163237888.0000\n",
      "Epoch 7/10\n",
      "\u001b[1m14042/14042\u001b[0m \u001b[32m━━━━━━━━━━━━━━━━━━━━\u001b[0m\u001b[37m\u001b[0m \u001b[1m28s\u001b[0m 2ms/step - loss: 6270587904.0000 - val_loss: 6191315456.0000\n",
      "Epoch 8/10\n",
      "\u001b[1m14042/14042\u001b[0m \u001b[32m━━━━━━━━━━━━━━━━━━━━\u001b[0m\u001b[37m\u001b[0m \u001b[1m28s\u001b[0m 2ms/step - loss: 6244198400.0000 - val_loss: 6053382144.0000\n",
      "Epoch 9/10\n",
      "\u001b[1m14042/14042\u001b[0m \u001b[32m━━━━━━━━━━━━━━━━━━━━\u001b[0m\u001b[37m\u001b[0m \u001b[1m30s\u001b[0m 2ms/step - loss: 6073169408.0000 - val_loss: 5819482624.0000\n",
      "Epoch 10/10\n",
      "\u001b[1m14042/14042\u001b[0m \u001b[32m━━━━━━━━━━━━━━━━━━━━\u001b[0m\u001b[37m\u001b[0m \u001b[1m30s\u001b[0m 2ms/step - loss: 5930012672.0000 - val_loss: 5753913856.0000\n",
      "\u001b[1m3511/3511\u001b[0m \u001b[32m━━━━━━━━━━━━━━━━━━━━\u001b[0m\u001b[37m\u001b[0m \u001b[1m5s\u001b[0m 1ms/step - loss: 5806366720.0000\n",
      "\u001b[1m3511/3511\u001b[0m \u001b[32m━━━━━━━━━━━━━━━━━━━━\u001b[0m\u001b[37m\u001b[0m \u001b[1m5s\u001b[0m 1ms/step\n",
      "Linear Regression:\n",
      "MAE: 110333.77116297798\n",
      "MSE: 18377646781.150486\n",
      "RMSE: 135564.1795650698\n",
      "R-squared: 0.2986962105443912\n",
      "\n",
      "\n",
      "Polynomial Regression (degree 2):\n",
      "MAE: 52000.67825253525\n",
      "MSE: 8159259971.162448\n",
      "RMSE: 90328.62210375207\n",
      "R-squared: 0.6886369617899759\n",
      "\n",
      "\n",
      "XGBoost:\n",
      "MAE: 24692.76654672241\n",
      "MSE: 2586142454.01348\n",
      "RMSE: 50854.12917368147\n",
      "R-squared: 0.9013110043592785\n",
      "\n",
      "\n",
      "MLP:\n",
      "MAE: 280815.8584772847\n",
      "MSE: 105062519200.52344\n",
      "RMSE: 324133.48978549475\n",
      "R-squared: -3.0092588415972994\n",
      "Neural Network:\n",
      "MAE: 44696.51742118855\n",
      "MSE: 5754479640.910147\n",
      "RMSE: 75858.2865671915\n",
      "R-squared: 0.7804050525851496\n"
     ]
    }
   ],
   "source": [
    "# Import necessary libraries\n",
    "import pandas as pd\n",
    "import numpy as np\n",
    "from sklearn.model_selection import train_test_split\n",
    "from sklearn.linear_model import LinearRegression\n",
    "from sklearn.preprocessing import PolynomialFeatures\n",
    "from sklearn.ensemble import RandomForestRegressor\n",
    "import xgboost as xgb\n",
    "from sklearn.metrics import accuracy_score, f1_score, roc_auc_score, precision_score, roc_curve\n",
    "import matplotlib.pyplot as plt\n",
    "import tensorflow as tf\n",
    "from tensorflow.keras.models import Sequential\n",
    "from tensorflow.keras.layers import Dense\n",
    "\n",
    "# Linear Regression\n",
    "linear_model = LinearRegression()\n",
    "linear_model.fit(X_train, y_train)\n",
    "\n",
    "# Polynomial Regression (degree 2)\n",
    "poly = PolynomialFeatures(degree=2)\n",
    "X_poly_train = poly.fit_transform(X_train)\n",
    "X_poly_test = poly.transform(X_test)\n",
    "poly_model = LinearRegression()\n",
    "poly_model.fit(X_poly_train, y_train)\n",
    "\"\"\"\n",
    "# Random Forest\n",
    "rf_model = RandomForestRegressor(n_estimators=100, random_state=42)\n",
    "rf_model.fit(X_train, y_train)\n",
    "\"\"\"\n",
    "# XGBoost\n",
    "xgb_model = xgb.XGBRegressor(objective ='reg:squarederror', random_state=42)\n",
    "xgb_model.fit(X_train, y_train)\n",
    "\n",
    "# MLP model\n",
    "mlp = MLP(n_inputs=X_train.shape[1], n_hidden=10, n_outputs=1, eta=0.1, n_iter=10)\n",
    "mlp.fit(X_train, y_train)\n",
    "\n",
    "# Neural Network model\n",
    "# Train the model\n",
    "history = neural_network.fit(X_train, y_train, epochs=10, batch_size=32, validation_data=(X_test, y_test))\n",
    "neural_network.evaluate(X_test, y_test)\n",
    "\n",
    "# Predictions\n",
    "linear_preds = linear_model.predict(X_test)\n",
    "poly_preds = poly_model.predict(X_poly_test)\n",
    "#rf_preds = rf_model.predict(X_test)\n",
    "xgb_preds = xgb_model.predict(X_test)\n",
    "mlp_preds = mlp.predict(X_test)\n",
    "neural_network_preds = neural_network.predict(X_test)\n",
    "\n",
    "from sklearn.metrics import mean_absolute_error, mean_squared_error, r2_score\n",
    "\n",
    "# Evaluation function for regression\n",
    "def evaluate_regression(y_true, y_pred):\n",
    "    mae = mean_absolute_error(y_true, y_pred)\n",
    "    mse = mean_squared_error(y_true, y_pred)\n",
    "    rmse = np.sqrt(mse)\n",
    "    r2 = r2_score(y_true, y_pred)\n",
    "    return mae, mse, rmse, r2\n",
    "\n",
    "# Evaluate Linear Regression\n",
    "linear_mae, linear_mse, linear_rmse, linear_r2 = evaluate_regression(y_test, linear_preds)\n",
    "\n",
    "# Evaluate Polynomial Regression\n",
    "poly_mae, poly_mse, poly_rmse, poly_r2 = evaluate_regression(y_test, poly_preds)\n",
    "\n",
    "# Evaluate XGBoost\n",
    "xgb_mae, xgb_mse, xgb_rmse, xgb_r2 = evaluate_regression(y_test, xgb_preds)\n",
    "\n",
    "# Evaluate MLP\n",
    "mlp_mae, mlp_mse, mlp_rmse, mlp_r2 = evaluate_regression(y_test, mlp_preds)\n",
    "\n",
    "# Evaluate MLP\n",
    "neural_network_mae, neural_network_mse, neural_network_rmse, neural_network_r2 = evaluate_regression(y_test, neural_network_preds)\n",
    "\n",
    "\n",
    "# Display results\n",
    "print(\"Linear Regression:\")\n",
    "print(\"MAE:\", linear_mae)\n",
    "print(\"MSE:\", linear_mse)\n",
    "print(\"RMSE:\", linear_rmse)\n",
    "print(\"R-squared:\", linear_r2)\n",
    "print(\"\\n\")\n",
    "\n",
    "print(\"Polynomial Regression (degree 2):\")\n",
    "print(\"MAE:\", poly_mae)\n",
    "print(\"MSE:\", poly_mse)\n",
    "print(\"RMSE:\", poly_rmse)\n",
    "print(\"R-squared:\", poly_r2)\n",
    "print(\"\\n\")\n",
    "\n",
    "print(\"XGBoost:\")\n",
    "print(\"MAE:\", xgb_mae)\n",
    "print(\"MSE:\", xgb_mse)\n",
    "print(\"RMSE:\", xgb_rmse)\n",
    "print(\"R-squared:\", xgb_r2)\n",
    "print(\"\\n\")\n",
    "\n",
    "print(\"MLP:\")\n",
    "print(\"MAE:\", mlp_mae)\n",
    "print(\"MSE:\", mlp_mse)\n",
    "print(\"RMSE:\", mlp_rmse)\n",
    "print(\"R-squared:\", mlp_r2)\n",
    "\n",
    "# Print the evaluation results\n",
    "print(\"Neural Network:\")\n",
    "print(\"MAE:\", neural_network_mae)\n",
    "print(\"MSE:\", neural_network_mse)\n",
    "print(\"RMSE:\", neural_network_rmse)\n",
    "print(\"R-squared:\", neural_network_r2)\n"
   ]
  },
  {
   "cell_type": "code",
   "execution_count": 10,
   "id": "b58802c5",
   "metadata": {},
   "outputs": [
    {
     "name": "stderr",
     "output_type": "stream",
     "text": [
      "C:\\Users\\User\\anaconda3\\Lib\\site-packages\\keras\\src\\layers\\core\\dense.py:85: UserWarning: Do not pass an `input_shape`/`input_dim` argument to a layer. When using Sequential models, prefer using an `Input(shape)` object as the first layer in the model instead.\n",
      "  super().__init__(activity_regularizer=activity_regularizer, **kwargs)\n"
     ]
    },
    {
     "name": "stdout",
     "output_type": "stream",
     "text": [
      "Epoch 1/10\n",
      "\u001b[1m14042/14042\u001b[0m \u001b[32m━━━━━━━━━━━━━━━━━━━━\u001b[0m\u001b[37m\u001b[0m \u001b[1m44s\u001b[0m 3ms/step - loss: 39956873216.0000 - val_loss: 24121460736.0000\n",
      "Epoch 2/10\n",
      "\u001b[1m14042/14042\u001b[0m \u001b[32m━━━━━━━━━━━━━━━━━━━━\u001b[0m\u001b[37m\u001b[0m \u001b[1m41s\u001b[0m 3ms/step - loss: 22518614016.0000 - val_loss: 18993678336.0000\n",
      "Epoch 3/10\n",
      "\u001b[1m14042/14042\u001b[0m \u001b[32m━━━━━━━━━━━━━━━━━━━━\u001b[0m\u001b[37m\u001b[0m \u001b[1m40s\u001b[0m 3ms/step - loss: 18849509376.0000 - val_loss: 18503593984.0000\n",
      "Epoch 4/10\n",
      "\u001b[1m14042/14042\u001b[0m \u001b[32m━━━━━━━━━━━━━━━━━━━━\u001b[0m\u001b[37m\u001b[0m \u001b[1m43s\u001b[0m 3ms/step - loss: 18543491072.0000 - val_loss: 18724812800.0000\n",
      "Epoch 5/10\n",
      "\u001b[1m14042/14042\u001b[0m \u001b[32m━━━━━━━━━━━━━━━━━━━━\u001b[0m\u001b[37m\u001b[0m \u001b[1m41s\u001b[0m 3ms/step - loss: 18387718144.0000 - val_loss: 18384220160.0000\n",
      "Epoch 6/10\n",
      "\u001b[1m14042/14042\u001b[0m \u001b[32m━━━━━━━━━━━━━━━━━━━━\u001b[0m\u001b[37m\u001b[0m \u001b[1m40s\u001b[0m 3ms/step - loss: 18367512576.0000 - val_loss: 19625852928.0000\n",
      "Epoch 7/10\n",
      "\u001b[1m14042/14042\u001b[0m \u001b[32m━━━━━━━━━━━━━━━━━━━━\u001b[0m\u001b[37m\u001b[0m \u001b[1m42s\u001b[0m 3ms/step - loss: 18218813440.0000 - val_loss: 18151475200.0000\n",
      "Epoch 8/10\n",
      "\u001b[1m14042/14042\u001b[0m \u001b[32m━━━━━━━━━━━━━━━━━━━━\u001b[0m\u001b[37m\u001b[0m \u001b[1m41s\u001b[0m 3ms/step - loss: 18158997504.0000 - val_loss: 17969256448.0000\n",
      "Epoch 9/10\n",
      "\u001b[1m14042/14042\u001b[0m \u001b[32m━━━━━━━━━━━━━━━━━━━━\u001b[0m\u001b[37m\u001b[0m \u001b[1m1685s\u001b[0m 120ms/step - loss: 18125594624.0000 - val_loss: 18417055744.0000\n",
      "Epoch 10/10\n",
      "\u001b[1m14042/14042\u001b[0m \u001b[32m━━━━━━━━━━━━━━━━━━━━\u001b[0m\u001b[37m\u001b[0m \u001b[1m18s\u001b[0m 1ms/step - loss: 17770209280.0000 - val_loss: 17518125056.0000\n",
      "\u001b[1m3511/3511\u001b[0m \u001b[32m━━━━━━━━━━━━━━━━━━━━\u001b[0m\u001b[37m\u001b[0m \u001b[1m3s\u001b[0m 896us/step - loss: 17541007360.0000\n"
     ]
    },
    {
     "data": {
      "text/plain": [
       "17518125056.0"
      ]
     },
     "execution_count": 10,
     "metadata": {},
     "output_type": "execute_result"
    }
   ],
   "source": [
    "import tensorflow as tf\n",
    "from tensorflow.keras.models import Sequential\n",
    "from tensorflow.keras.layers import Dense\n",
    "\n",
    "# Define the neural network architecture\n",
    "def create_neural_network(input_shape):\n",
    "    model = Sequential([\n",
    "        Dense(64, activation='relu', input_shape=(input_shape,)),\n",
    "        Dense(64, activation='relu'),\n",
    "        Dense(1)  # Output layer with one neuron for regression\n",
    "    ])\n",
    "    return model\n",
    "\n",
    "# Initialize the neural network\n",
    "neural_network = create_neural_network(input_shape=X_train.shape[1])\n",
    "\n",
    "# Compile the model\n",
    "neural_network.compile(optimizer='adam', loss='mean_squared_error')\n",
    "\n",
    "# Train the model\n",
    "history = neural_network.fit(X_train, y_train, epochs=10, batch_size=32, validation_data=(X_test, y_test))\n",
    "\n",
    "# Evaluate the model\n",
    "neural_network.evaluate(X_test, y_test)"
   ]
  },
  {
   "cell_type": "code",
   "execution_count": 27,
   "id": "686850c2",
   "metadata": {},
   "outputs": [
    {
     "data": {
      "image/png": "[encoded data removed]",
      "text/plain": [
       "<Figure size 1000x600 with 1 Axes>"
      ]
     },
     "metadata": {},
     "output_type": "display_data"
    },
    {
     "name": "stdout",
     "output_type": "stream",
     "text": [
      "The best model is: XGBoost\n"
     ]
    }
   ],
   "source": [
    "# Create a DataFrame to store the results\n",
    "results = pd.DataFrame({\n",
    "    'Model': ['Linear Regression', 'Polynomial Regression', 'XGBoost', 'MLP', 'Neural Network'],\n",
    "    'Mean Absolute Error': [linear_mae, poly_mae, xgb_mae, mlp_mae, neural_network_mae]\n",
    "})\n",
    "\n",
    "# Plotting the results\n",
    "plt.figure(figsize=(10, 6))\n",
    "plt.bar(results['Model'], results['Mean Absolute Error'], color=['blue', 'green', 'red', 'purple', 'orange'])\n",
    "plt.xlabel('Model')\n",
    "plt.ylabel('Mean Absolute Error')\n",
    "plt.title('Comparison of Mean Absolute Error between Models')\n",
    "plt.xticks(rotation=45)\n",
    "plt.show()\n",
    "\n",
    "# Print the best model\n",
    "best_model = results.loc[results['Mean Absolute Error'].idxmin()]\n",
    "print(\"The best model is:\", best_model['Model'])"
   ]
  },
  {
   "cell_type": "code",
   "execution_count": 28,
   "id": "8a1af750",
   "metadata": {},
   "outputs": [
    {
     "data": {
      "text/plain": [
       "'import tensorflow as tf\\nfrom tensorflow.keras.models import Sequential\\nfrom tensorflow.keras.layers import Dense\\n\\n# Define the neural network architecture\\ndef create_neural_network(input_shape):\\n    model = Sequential([\\n        Dense(64, activation=\\'relu\\', input_shape=(input_shape,)),\\n        Dense(64, activation=\\'relu\\'),\\n        Dense(1)  # Output layer with one neuron for regression\\n    ])\\n    return model\\n\\n# Initialize the neural network\\nneural_network = create_neural_network(input_shape=X_train.shape[1])\\n\\n# Compile the model\\nneural_network.compile(optimizer=\\'adam\\', loss=\\'mean_squared_error\\')\\n\\n# Train the model\\nhistory = neural_network.fit(X_train, y_train, epochs=10, batch_size=32, validation_data=(X_test, y_test))\\n\\n# Evaluate the model\\nneural_network.evaluate(X_test, y_test)\\n\\n# Make predictions\\nneural_network_preds = neural_network.predict(X_test)\\n\\n# Evaluate the model\\nneural_network_mae = mean_absolute_error(y_test, neural_network_preds)\\nneural_network_mse = mean_squared_error(y_test, neural_network_preds)\\nneural_network_rmse = np.sqrt(neural_network_mse)\\nneural_network_r2 = r2_score(y_test, neural_network_preds)\\n\\n# Print the evaluation results\\nprint(\"Neural Network:\")\\nprint(\"MAE:\", neural_network_mae)\\nprint(\"MSE:\", neural_network_mse)\\nprint(\"RMSE:\", neural_network_rmse)\\nprint(\"R-squared:\", neural_network_r2)\\n'"
      ]
     },
     "execution_count": 28,
     "metadata": {},
     "output_type": "execute_result"
    }
   ],
   "source": [
    "\"\"\"import tensorflow as tf\n",
    "from tensorflow.keras.models import Sequential\n",
    "from tensorflow.keras.layers import Dense\n",
    "\n",
    "# Define the neural network architecture\n",
    "def create_neural_network(input_shape):\n",
    "    model = Sequential([\n",
    "        Dense(64, activation='relu', input_shape=(input_shape,)),\n",
    "        Dense(64, activation='relu'),\n",
    "        Dense(1)  # Output layer with one neuron for regression\n",
    "    ])\n",
    "    return model\n",
    "\n",
    "# Initialize the neural network\n",
    "neural_network = create_neural_network(input_shape=X_train.shape[1])\n",
    "\n",
    "# Compile the model\n",
    "neural_network.compile(optimizer='adam', loss='mean_squared_error')\n",
    "\n",
    "# Train the model\n",
    "history = neural_network.fit(X_train, y_train, epochs=10, batch_size=32, validation_data=(X_test, y_test))\n",
    "\n",
    "# Evaluate the model\n",
    "neural_network.evaluate(X_test, y_test)\n",
    "\n",
    "# Make predictions\n",
    "neural_network_preds = neural_network.predict(X_test)\n",
    "\n",
    "# Evaluate the model\n",
    "neural_network_mae = mean_absolute_error(y_test, neural_network_preds)\n",
    "neural_network_mse = mean_squared_error(y_test, neural_network_preds)\n",
    "neural_network_rmse = np.sqrt(neural_network_mse)\n",
    "neural_network_r2 = r2_score(y_test, neural_network_preds)\n",
    "\n",
    "# Print the evaluation results\n",
    "print(\"Neural Network:\")\n",
    "print(\"MAE:\", neural_network_mae)\n",
    "print(\"MSE:\", neural_network_mse)\n",
    "print(\"RMSE:\", neural_network_rmse)\n",
    "print(\"R-squared:\", neural_network_r2)\n",
    "\"\"\""
   ]
  },
  {
   "cell_type": "code",
   "execution_count": null,
   "id": "637256af",
   "metadata": {},
   "outputs": [],
   "source": []
  }
 ],
 "metadata": {
  "kernelspec": {
   "display_name": "Python 3 (ipykernel)",
   "language": "python",
   "name": "python3"
  },
  "language_info": {
   "codemirror_mode": {
    "name": "ipython",
    "version": 3
   },
   "file_extension": ".py",
   "mimetype": "text/x-python",
   "name": "python",
   "nbconvert_exporter": "python",
   "pygments_lexer": "ipython3",
   "version": "3.11.5"
  }
 },
 "nbformat": 4,
 "nbformat_minor": 5
}
